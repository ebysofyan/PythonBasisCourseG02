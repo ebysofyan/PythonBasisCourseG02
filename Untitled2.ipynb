{
 "cells": [
  {
   "cell_type": "code",
   "execution_count": 3,
   "metadata": {},
   "outputs": [
    {
     "data": {
      "text/plain": [
       "5"
      ]
     },
     "execution_count": 3,
     "metadata": {},
     "output_type": "execute_result"
    }
   ],
   "source": [
    "a = [9, 5, 2, 4, 7]\n",
    "j = len(a)\n",
    "j"
   ]
  },
  {
   "cell_type": "code",
   "execution_count": 4,
   "metadata": {},
   "outputs": [
    {
     "name": "stdout",
     "output_type": "stream",
     "text": [
      "ini text\n",
      "9\n",
      "ini text\n",
      "5\n",
      "ini text\n",
      "2\n",
      "ini text\n",
      "4\n",
      "ini text\n",
      "7\n"
     ]
    }
   ],
   "source": [
    "print(\"ini text\")\n",
    "print(a[0])\n",
    "print(\"ini text\")\n",
    "print(a[1])\n",
    "print(\"ini text\")\n",
    "print(a[2])\n",
    "print(\"ini text\")\n",
    "print(a[3])\n",
    "print(\"ini text\")\n",
    "print(a[4])"
   ]
  },
  {
   "cell_type": "code",
   "execution_count": 5,
   "metadata": {},
   "outputs": [
    {
     "name": "stdout",
     "output_type": "stream",
     "text": [
      "nilai index=0\n",
      "9\n",
      "nilai index=1\n",
      "5\n",
      "nilai index=2\n",
      "2\n",
      "nilai index=3\n",
      "4\n",
      "nilai index=4\n",
      "7\n",
      "ini di luar putaran\n"
     ]
    }
   ],
   "source": [
    "# index in range(0,5)\n",
    "\n",
    "# index = 0\n",
    "# index = 1\n",
    "# index = 2\n",
    "# index = 3\n",
    "# index = 4\n",
    "\n",
    "for index in range(0,j):\n",
    "    print(\"nilai index=\"+str(index))\n",
    "    print(a[index])\n",
    "\n",
    "print(\"ini di luar putaran\")"
   ]
  },
  {
   "cell_type": "code",
   "execution_count": null,
   "metadata": {
    "collapsed": true
   },
   "outputs": [],
   "source": []
  },
  {
   "cell_type": "code",
   "execution_count": null,
   "metadata": {
    "collapsed": true
   },
   "outputs": [],
   "source": []
  }
 ],
 "metadata": {
  "kernelspec": {
   "display_name": "Python 3",
   "language": "python",
   "name": "python3"
  },
  "language_info": {
   "codemirror_mode": {
    "name": "ipython",
    "version": 3
   },
   "file_extension": ".py",
   "mimetype": "text/x-python",
   "name": "python",
   "nbconvert_exporter": "python",
   "pygments_lexer": "ipython3",
   "version": "3.6.1"
  }
 },
 "nbformat": 4,
 "nbformat_minor": 2
}
