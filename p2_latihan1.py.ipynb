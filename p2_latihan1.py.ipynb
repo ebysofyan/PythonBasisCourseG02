{
 "cells": [
  {
   "cell_type": "code",
   "execution_count": 9,
   "metadata": {},
   "outputs": [
    {
     "name": "stdout",
     "output_type": "stream",
     "text": [
      "Masukan Nilai A: 5\n"
     ]
    }
   ],
   "source": [
    "a = input(\"Masukan Nilai A: \")\n",
    "a = int(a)"
   ]
  },
  {
   "cell_type": "code",
   "execution_count": 10,
   "metadata": {},
   "outputs": [
    {
     "name": "stdout",
     "output_type": "stream",
     "text": [
      "Masukan Nilai B:5\n"
     ]
    }
   ],
   "source": [
    "b = input(\"Masukan Nilai B:\")\n",
    "b = int(b)"
   ]
  },
  {
   "cell_type": "code",
   "execution_count": 11,
   "metadata": {
    "collapsed": true
   },
   "outputs": [],
   "source": [
    "c = (a>=10)\n",
    "d = (b>=20)"
   ]
  },
  {
   "cell_type": "code",
   "execution_count": 12,
   "metadata": {},
   "outputs": [
    {
     "name": "stdout",
     "output_type": "stream",
     "text": [
      "C: False\n",
      "D: False\n"
     ]
    }
   ],
   "source": [
    "print(\"C: \"+str(c))\n",
    "print(\"D: \"+str(d))"
   ]
  },
  {
   "cell_type": "code",
   "execution_count": 13,
   "metadata": {},
   "outputs": [
    {
     "name": "stdout",
     "output_type": "stream",
     "text": [
      "A AND B = 0\n"
     ]
    }
   ],
   "source": [
    "if c and d: # Ini akan dijalankan ketika bernilai True\n",
    "    print(\"A AND B = 1\")\n",
    "else: # Ini akan dijalankan ketika bernilai False\n",
    "    print(\"A AND B = 0\")"
   ]
  },
  {
   "cell_type": "code",
   "execution_count": 14,
   "metadata": {},
   "outputs": [
    {
     "name": "stdout",
     "output_type": "stream",
     "text": [
      "A OR B = 0\n"
     ]
    }
   ],
   "source": [
    "if c or d:\n",
    "    print(\"A OR B = 1\")\n",
    "else:\n",
    "    print(\"A OR B = 0\")"
   ]
  },
  {
   "cell_type": "code",
   "execution_count": null,
   "metadata": {
    "collapsed": true
   },
   "outputs": [],
   "source": []
  }
 ],
 "metadata": {
  "kernelspec": {
   "display_name": "Python 3",
   "language": "python",
   "name": "python3"
  },
  "language_info": {
   "codemirror_mode": {
    "name": "ipython",
    "version": 3
   },
   "file_extension": ".py",
   "mimetype": "text/x-python",
   "name": "python",
   "nbconvert_exporter": "python",
   "pygments_lexer": "ipython3",
   "version": "3.6.1"
  }
 },
 "nbformat": 4,
 "nbformat_minor": 2
}
