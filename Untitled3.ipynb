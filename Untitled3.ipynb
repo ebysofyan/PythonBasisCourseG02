{
 "cells": [
  {
   "cell_type": "code",
   "execution_count": 4,
   "metadata": {},
   "outputs": [
    {
     "name": "stdout",
     "output_type": "stream",
     "text": [
      "   Tanggal   |   Uraian   |   Debet   |   Kredit   |\n",
      "   22/10/17  | Beli Jajan|     0     |   10000    |\n",
      "   23/10/17  | Jual Pakaian|     50000     |   0    |\n",
      "   25/10/17  | Beli Kupi|     0     |   20000    |\n"
     ]
    }
   ],
   "source": [
    "# mendefinisikan variabel jurnal \n",
    "# sebagai array tidak berisi nilai\n",
    "jurnal = []\n",
    "\n",
    "b1 = {\n",
    "    'tanggal': '22/10/17',\n",
    "    'uraian': 'Beli Jajan',\n",
    "    'debet': str(0),\n",
    "    'kredit': str(10000)\n",
    "}\n",
    "# memasukan dictionary b1 kedalam array jurnal\n",
    "# dengan index ke 0\n",
    "jurnal.append(b1)\n",
    "\n",
    "b2 = {\n",
    "    'tanggal': '23/10/17',\n",
    "    'uraian': 'Jual Pakaian',\n",
    "    'debet': str(50000),\n",
    "    'kredit': str(0)\n",
    "}\n",
    "# memasukan dictionary b2 kedalam array jurnal\n",
    "# dengan index ke 1\n",
    "jurnal.append(b2)\n",
    "\n",
    "b3 = {\n",
    "    'tanggal': '25/10/17',\n",
    "    'uraian': 'Beli Kupi',\n",
    "    'debet': str(0),\n",
    "    'kredit': str(20000)\n",
    "}\n",
    "#tampilkan baris ke 1 semua isinya\n",
    "print (\"   Tanggal   \"+\"|\"+\"   Uraian   \"+\"|\"\"   Debet   \"+\"|\"\"   Kredit   \"+\"|\")\n",
    "a = [b1, b2, b3]\n",
    "j = len(a)\n",
    "for index in range(0,j):\n",
    "        T = 'tanggal'\n",
    "        U = 'uraian'\n",
    "        D = 'debet'\n",
    "        K = 'kredit'\n",
    "        print(\"   \"+a[index][T]+\"  | \"+a[index][U]+\"|     \"+a[index][D]+\"     |   \"+a[index][K]+\"    |\")\n",
    "       "
   ]
  },
  {
   "cell_type": "code",
   "execution_count": 2,
   "metadata": {},
   "outputs": [
    {
     "name": "stdout",
     "output_type": "stream",
     "text": [
      "{'tanggal': '22/10/17', 'uraian': 'Beli Jajan', 'debet': 0, 'kredit': 10000}\n",
      "{'tanggal': '23/10/17', 'uraian': 'Jual Pakaian', 'debet': 50000, 'kredit': 0}\n",
      "{'tanggal': '25/10/17', 'uraian': 'Beli Kupi', 'debet': 0, 'kredit': 20000}\n",
      "ini diluar perulangan\n"
     ]
    }
   ],
   "source": [
    "# mendefinisikan variabel jurnal \n",
    "# sebagai array tidak berisi nilai\n",
    "jurnal = []\n",
    "\n",
    "b1 = {\n",
    "    'tanggal': '22/10/17',\n",
    "    'uraian': 'Beli Jajan',\n",
    "    'debet': 0,\n",
    "    'kredit': 10000\n",
    "}\n",
    "# memasukan dictionary b1 kedalam array jurnal\n",
    "# dengan index ke 0\n",
    "jurnal.append(b1)\n",
    "\n",
    "b2 = {\n",
    "    'tanggal': '23/10/17',\n",
    "    'uraian': 'Jual Pakaian',\n",
    "    'debet': 50000,\n",
    "    'kredit': 0\n",
    "}\n",
    "# memasukan dictionary b2 kedalam array jurnal\n",
    "# dengan index ke 1\n",
    "jurnal.append(b2)\n",
    "\n",
    "b3 = {\n",
    "    'tanggal': '25/10/17',\n",
    "    'uraian': 'Beli Kupi',\n",
    "    'debet': 0,\n",
    "    'kredit': 20000\n",
    "}\n",
    "# memasukan dictionary b3 kedalam array jurnal\n",
    "# dengan index ke 2\n",
    "jurnal.append(b3)\n",
    "\n",
    "\n",
    "\n",
    "jurnal  = {}\n",
    "a = [b1,b2,b3]\n",
    "#b = [b1,b2,b3]\n",
    "j = len(a)\n",
    "#print(a['tanggal', 'uraian', 'debet', 'kredit'])\n",
    "for index in range(0,j):\n",
    "    #print(a[\"tanggal\", \"uraian\", \"debet\", \"kredit\"]+str(index))\n",
    "    #print(j(\"tanggal\"+str(index))\n",
    "    print(a[index])\n",
    "\n",
    "print(\"ini diluar perulangan\")"
   ]
  },
  {
   "cell_type": "code",
   "execution_count": 5,
   "metadata": {},
   "outputs": [
    {
     "name": "stdout",
     "output_type": "stream",
     "text": [
      "tanggal | uraian | debet | kredit\n",
      "<b>test</b>\n",
      "22/10/17 | Beli Jajan | 0 | 10000\n",
      "23/10/17 | Jual Pakaian | 50000 | 0\n",
      "25/10/17 | Beli Kupi | 0 | 20000\n",
      "Ini di luar perulangan\n"
     ]
    }
   ],
   "source": [
    "# mendefinisikan variabel jurnal \n",
    "# sebagai array tidak berisi nilai\n",
    "jurnal = []\n",
    "\n",
    "b1 = {\n",
    "    'tanggal': '22/10/17',\n",
    "    'uraian': 'Beli Jajan',\n",
    "    'debet': 0,\n",
    "    'kredit': 10000\n",
    "}\n",
    "# memasukan dictionary b1 kedalam array jurnal\n",
    "# dengan index ke 0\n",
    "jurnal.append(b1)\n",
    "\n",
    "b2 = {\n",
    "    'tanggal': '23/10/17',\n",
    "    'uraian': 'Jual Pakaian',\n",
    "    'debet': 50000,\n",
    "    'kredit': 0\n",
    "}\n",
    "# memasukan dictionary b2 kedalam array jurnal\n",
    "# dengan index ke 1\n",
    "jurnal.append(b2)\n",
    "\n",
    "b3 = {\n",
    "    'tanggal': '25/10/17',\n",
    "    'uraian': 'Beli Kupi',\n",
    "    'debet': 0,\n",
    "    'kredit': 20000\n",
    "}\n",
    "# memasukan dictionary b3 kedalam array jurnal\n",
    "# dengan index ke 2\n",
    "jurnal.append(b3)\n",
    "\n",
    "\n",
    "out = \"tanggal | uraian | debet | kredit\"\n",
    "print(out)\n",
    "\n",
    "\n",
    "jl = len(jurnal)\n",
    "for index in range(0,jl):\n",
    "    tgl = jurnal[index]['tanggal']\n",
    "    ur = jurnal[index]['uraian']\n",
    "    db = jurnal[index]['debet']\n",
    "    kr = jurnal[index]['kredit']\n",
    "\n",
    "    otx = tgl + ur + str(db) + str(kr)\n",
    "    ot = tgl + ' | ' + ur + ' | ' + str(db) + ' | ' + str(kr)\n",
    "    print(ot) \n",
    "print('Ini di luar perulangan')\n",
    "    \n",
    "    "
   ]
  },
  {
   "cell_type": "code",
   "execution_count": null,
   "metadata": {
    "collapsed": true
   },
   "outputs": [],
   "source": []
  }
 ],
 "metadata": {
  "kernelspec": {
   "display_name": "Python 3",
   "language": "python",
   "name": "python3"
  },
  "language_info": {
   "codemirror_mode": {
    "name": "ipython",
    "version": 3
   },
   "file_extension": ".py",
   "mimetype": "text/x-python",
   "name": "python",
   "nbconvert_exporter": "python",
   "pygments_lexer": "ipython3",
   "version": "3.6.1"
  }
 },
 "nbformat": 4,
 "nbformat_minor": 2
}
