{
 "cells": [
  {
   "cell_type": "code",
   "execution_count": null,
   "metadata": {
    "collapsed": true
   },
   "outputs": [],
   "source": [
    "# jika ada sate kambing\n",
    "    # maka pesan 2 porsi\n",
    "    # jika ada jus alpukat\n",
    "        # maka pesan 3 gelas\n",
    "    # jika tidak jus alpukat\n",
    "        # maka pesan air mineral\n",
    "\n",
    "# jika tidak ada sate kambing\n",
    "    # maka pesan ayam bakar\n",
    "    # jika ada jus jeruk\n",
    "        # maka pesan 2 gelas\n",
    "    # jika tidak ada jus jeruk\n",
    "        # maka pesan air mineral\n"
   ]
  },
  {
   "cell_type": "code",
   "execution_count": 12,
   "metadata": {},
   "outputs": [
    {
     "name": "stdout",
     "output_type": "stream",
     "text": [
      "Makanan : rujak\n",
      "Gak ada mas, Pesan Ayam Bakar saja!\n",
      "Minuman : jus-jeruk\n",
      "Pesan 2 Gelas Jus Jeruk\n"
     ]
    }
   ],
   "source": [
    "makan = input(\"Makanan : \")\n",
    "if makan=='sate-kambing':\n",
    "    print(\"Pesan 2 Porsi Sate Kambing\")\n",
    "    minum = input(\"Minuman : \")\n",
    "    if minum=='jus-alpukat':\n",
    "        print(\"Pesan 3 Gelas Jus Alpukat\")\n",
    "    else:\n",
    "        print(\"Gak ada mas, Pesan Air Mineral saja!\")\n",
    "else:\n",
    "    print(\"Gak ada mas, Pesan Ayam Bakar saja!\")\n",
    "    minum = input(\"Minuman : \")\n",
    "    if minum=='jus-jeruk':\n",
    "        print(\"Pesan 2 Gelas Jus Jeruk\")\n",
    "    else:\n",
    "        print(\"Gak ada mas, Pesan Air Mineral saja!\")"
   ]
  },
  {
   "cell_type": "code",
   "execution_count": null,
   "metadata": {
    "collapsed": true
   },
   "outputs": [],
   "source": []
  },
  {
   "cell_type": "code",
   "execution_count": null,
   "metadata": {
    "collapsed": true
   },
   "outputs": [],
   "source": []
  }
 ],
 "metadata": {
  "kernelspec": {
   "display_name": "Python 3",
   "language": "python",
   "name": "python3"
  },
  "language_info": {
   "codemirror_mode": {
    "name": "ipython",
    "version": 3
   },
   "file_extension": ".py",
   "mimetype": "text/x-python",
   "name": "python",
   "nbconvert_exporter": "python",
   "pygments_lexer": "ipython3",
   "version": "3.6.1"
  }
 },
 "nbformat": 4,
 "nbformat_minor": 2
}
